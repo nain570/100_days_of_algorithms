{
 "cells": [
  {
   "cell_type": "markdown",
   "metadata": {},
   "source": [
    "Important!"
   ]
  },
  {
   "cell_type": "code",
   "execution_count": 1,
   "metadata": {
    "collapsed": true
   },
   "outputs": [],
   "source": [
    "from __future__ import division\n",
    "import time"
   ]
  },
  {
   "cell_type": "markdown",
   "metadata": {},
   "source": [
    "A function that takes a list and sorts it in ascending order using Insertion Sort; used for Binary Search."
   ]
  },
  {
   "cell_type": "code",
   "execution_count": 2,
   "metadata": {
    "collapsed": true
   },
   "outputs": [],
   "source": [
    "def sort( values ):\n",
    "    n = len(values) #size of list\n",
    "    for i in range(n - 1):\n",
    "        for j in range(n - i - 1):\n",
    "            if values[j] > values[j + 1]:\n",
    "                #swapping\n",
    "                temp = values[j];\n",
    "                values[j] = values[j + 1];\n",
    "                values[j + 1] = temp;\n",
    "    return values"
   ]
  },
  {
   "cell_type": "markdown",
   "metadata": {},
   "source": [
    "Testing sorting function"
   ]
  },
  {
   "cell_type": "code",
   "execution_count": 3,
   "metadata": {
    "collapsed": false
   },
   "outputs": [
    {
     "name": "stdout",
     "output_type": "stream",
     "text": [
      "[1, 5, 6, 8, 9]\n",
      "----- 0.0 seconds -----\n"
     ]
    }
   ],
   "source": [
    "start = time.time()\n",
    "print ( sort([1,5,8,6,9]) )\n",
    "print (\"----- %s seconds -----\" % (time.time() - start))"
   ]
  },
  {
   "cell_type": "markdown",
   "metadata": {},
   "source": [
    "Now defining a function that uses Binary Search to find a value among many values."
   ]
  },
  {
   "cell_type": "code",
   "execution_count": 4,
   "metadata": {
    "collapsed": false
   },
   "outputs": [],
   "source": [
    "def search( values, key ):\n",
    "    values = sort(values) #soring to be fed into binary search\n",
    "    n = len(values) #size\n",
    "    start = 0\n",
    "    end  = n - 1\n",
    "    middle = (start + end)//2\n",
    "    while start <= end:\n",
    "        if values[middle] is key:\n",
    "            print (\"Found!\")\n",
    "            break\n",
    "        elif values[middle] < key:\n",
    "            start = middle + 1\n",
    "        else:\n",
    "            end = middle - 1\n",
    "        middle = (start + end)//2\n",
    "    else:\n",
    "        print (\"Not found!\")"
   ]
  },
  {
   "cell_type": "markdown",
   "metadata": {},
   "source": [
    "Output:"
   ]
  },
  {
   "cell_type": "code",
   "execution_count": 5,
   "metadata": {
    "collapsed": false
   },
   "outputs": [
    {
     "name": "stdout",
     "output_type": "stream",
     "text": [
      "Found!\n",
      "----- 0.0009992122650146484 seconds -----\n"
     ]
    }
   ],
   "source": [
    "start = time.time()\n",
    "search( [1,5,8,6,9], 6)\n",
    "print (\"----- %s seconds -----\" % (time.time() - start))"
   ]
  },
  {
   "cell_type": "code",
   "execution_count": 6,
   "metadata": {
    "collapsed": false
   },
   "outputs": [
    {
     "name": "stdout",
     "output_type": "stream",
     "text": [
      "Not found!\n",
      "----- 0.0010001659393310547 seconds -----\n"
     ]
    }
   ],
   "source": [
    "start = time.time()\n",
    "search( [1,5,8,6,9, 10, 2], 3)\n",
    "print (\"----- %s seconds -----\" % (time.time() - start))"
   ]
  }
 ],
 "metadata": {
  "kernelspec": {
   "display_name": "Python 3",
   "language": "python",
   "name": "python3"
  },
  "language_info": {
   "codemirror_mode": {
    "name": "ipython",
    "version": 3
   },
   "file_extension": ".py",
   "mimetype": "text/x-python",
   "name": "python",
   "nbconvert_exporter": "python",
   "pygments_lexer": "ipython3",
   "version": "3.6.0"
  }
 },
 "nbformat": 4,
 "nbformat_minor": 2
}
