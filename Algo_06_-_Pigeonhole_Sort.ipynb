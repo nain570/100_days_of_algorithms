{
 "cells": [
  {
   "cell_type": "markdown",
   "metadata": {},
   "source": [
    "# Pigeonhole Sort\n",
    "For each item in the list, get it’s value, then place it in a second array where the index that it’s copied to is equal to it’s value.  Once all values are copied, loop through copy list and move items back into original list."
   ]
  },
  {
   "cell_type": "markdown",
   "metadata": {},
   "source": [
    "Dependencies"
   ]
  },
  {
   "cell_type": "code",
   "execution_count": 1,
   "metadata": {
    "collapsed": true
   },
   "outputs": [],
   "source": [
    "import time"
   ]
  },
  {
   "cell_type": "markdown",
   "metadata": {},
   "source": [
    "## General\n",
    "This function sorts the values using the Pigeonhole Principle"
   ]
  },
  {
   "cell_type": "code",
   "execution_count": 10,
   "metadata": {
    "collapsed": false
   },
   "outputs": [],
   "source": [
    "def pigeon_sort(values):\n",
    "    # size of range of values in the list (ie, number of pigeonholes we need)\n",
    "    _min = min(values)\n",
    "    _max = max(values)\n",
    "    _range = _max - _min + 1\n",
    "\n",
    "    # pigeonholes\n",
    "    '''holes = [0 for i in range(_range)]'''\n",
    "    holes = [0] * _range\n",
    "\n",
    "    # populate the holes\n",
    "    for x in values:\n",
    "        holes[x - _min] += 1\n",
    "\n",
    "    # new sorted list, putting elements back to save space\n",
    "    i = 0\n",
    "    for count in range(_range):\n",
    "        while holes[count] > 0:\n",
    "        #copy all elements from each hole\n",
    "            holes[count] -= 1\n",
    "            values[i] = count + _min\n",
    "            i += 1\n",
    "    return values"
   ]
  },
  {
   "cell_type": "markdown",
   "metadata": {},
   "source": [
    "Let's see how it performs"
   ]
  },
  {
   "cell_type": "code",
   "execution_count": 11,
   "metadata": {
    "collapsed": false
   },
   "outputs": [
    {
     "name": "stdout",
     "output_type": "stream",
     "text": [
      "[1, 2, 3, 4, 5]\n",
      "----- 0.0010001659393310547 seconds -----\n"
     ]
    }
   ],
   "source": [
    "start = time.time()\n",
    "print( pigeon_sort( [5,4,3,2,1] ) )\n",
    "print (\"----- %s seconds -----\" % (time.time() - start))"
   ]
  },
  {
   "cell_type": "code",
   "execution_count": 12,
   "metadata": {
    "collapsed": false
   },
   "outputs": [
    {
     "name": "stdout",
     "output_type": "stream",
     "text": [
      "[1, 4, 5, 6, 6, 9]\n",
      "----- 0.0 seconds -----\n"
     ]
    }
   ],
   "source": [
    "start = time.time()\n",
    "print( pigeon_sort( [1, 6, 9, 5, 4, 6] ) )\n",
    "print (\"----- %s seconds -----\" % (time.time() - start))"
   ]
  },
  {
   "cell_type": "markdown",
   "metadata": {},
   "source": [
    "## Special Case\n",
    "A function based on the Pigeonhole Sort Algorithm which works only if the values are continuous and non-repeating."
   ]
  },
  {
   "cell_type": "code",
   "execution_count": 2,
   "metadata": {
    "collapsed": true
   },
   "outputs": [],
   "source": [
    "def pigeonsort( values ):\n",
    "    _min = min(values)\n",
    "    _max = max(values)\n",
    "    _range = _max - _min\n",
    "    \n",
    "    holes = [0 for i in range(_range + 1)]\n",
    "    \n",
    "    #putting in holes\n",
    "    for value in values:\n",
    "        holes[ value - _min ] = value\n",
    "    #moving back to original; in order\n",
    "    values = [value for value in holes]\n",
    "    \n",
    "    return values"
   ]
  },
  {
   "cell_type": "markdown",
   "metadata": {},
   "source": [
    "Let's check"
   ]
  },
  {
   "cell_type": "code",
   "execution_count": 3,
   "metadata": {
    "collapsed": false
   },
   "outputs": [
    {
     "name": "stdout",
     "output_type": "stream",
     "text": [
      "[1, 2, 3, 4, 5]\n",
      "----- 0.0 seconds -----\n"
     ]
    }
   ],
   "source": [
    "start = time.time()\n",
    "print( pigeonsort( [5,4,3,2,1] ) )\n",
    "print (\"----- %s seconds -----\" % (time.time() - start))"
   ]
  },
  {
   "cell_type": "code",
   "execution_count": 4,
   "metadata": {
    "collapsed": false
   },
   "outputs": [
    {
     "name": "stdout",
     "output_type": "stream",
     "text": [
      "[2, 3, 4, 5, 0, 0, 8]\n",
      "----- 0.0009999275207519531 seconds -----\n"
     ]
    }
   ],
   "source": [
    "start = time.time()\n",
    "print( pigeonsort( [5,4,3,2,8] ) )\n",
    "print (\"----- %s seconds -----\" % (time.time() - start))"
   ]
  },
  {
   "cell_type": "code",
   "execution_count": 5,
   "metadata": {
    "collapsed": false
   },
   "outputs": [
    {
     "name": "stdout",
     "output_type": "stream",
     "text": [
      "[2, 3, 4, 5]\n",
      "----- 0.0 seconds -----\n"
     ]
    }
   ],
   "source": [
    "start = time.time()\n",
    "print( pigeonsort( [5,4,3,2,5] ) )\n",
    "print (\"----- %s seconds -----\" % (time.time() - start))"
   ]
  }
 ],
 "metadata": {
  "kernelspec": {
   "display_name": "Python 3",
   "language": "python",
   "name": "python3"
  },
  "language_info": {
   "codemirror_mode": {
    "name": "ipython",
    "version": 3
   },
   "file_extension": ".py",
   "mimetype": "text/x-python",
   "name": "python",
   "nbconvert_exporter": "python",
   "pygments_lexer": "ipython3",
   "version": "3.6.0"
  }
 },
 "nbformat": 4,
 "nbformat_minor": 2
}
