{
 "cells": [
  {
   "cell_type": "markdown",
   "metadata": {},
   "source": [
    "Necessary resources"
   ]
  },
  {
   "cell_type": "code",
   "execution_count": 1,
   "metadata": {
    "collapsed": true
   },
   "outputs": [],
   "source": [
    "import time"
   ]
  },
  {
   "cell_type": "markdown",
   "metadata": {},
   "source": [
    "A function based on Quick Sort Algorithm"
   ]
  },
  {
   "cell_type": "code",
   "execution_count": 2,
   "metadata": {
    "collapsed": true
   },
   "outputs": [],
   "source": [
    "def quick_sort( values ):\n",
    "    n = len ( values ) #size\n",
    "    \n",
    "    if n is 1 or not values: #c'mon, who sorts no or one value!\n",
    "        return values\n",
    "    pivot = values[ n//2 ] #choosing middle one as true pivot\n",
    "    right = []\n",
    "    left = []\n",
    "    equal = [] #handy for list appending\n",
    "    \n",
    "    for i in values:\n",
    "        if i is pivot:\n",
    "            equal.append(i)\n",
    "        elif i > pivot:\n",
    "            right.append(i)\n",
    "        elif i < pivot:\n",
    "            left.append(i)\n",
    "    \n",
    "    return quick_sort(left) + equal + quick_sort(right)"
   ]
  },
  {
   "cell_type": "markdown",
   "metadata": {},
   "source": [
    "Test drive"
   ]
  },
  {
   "cell_type": "code",
   "execution_count": 3,
   "metadata": {
    "collapsed": false
   },
   "outputs": [
    {
     "name": "stdout",
     "output_type": "stream",
     "text": [
      "[1, 2, 3, 4, 5, 5, 7, 8, 8, 9]\n",
      "----- 0.0009996891021728516 seconds -----\n"
     ]
    }
   ],
   "source": [
    "start = time.time()\n",
    "print( quick_sort([5,1,5,8,8,9,2,3,4,7]) )\n",
    "print (\"----- %s seconds -----\" % (time.time() - start))"
   ]
  }
 ],
 "metadata": {
  "kernelspec": {
   "display_name": "Python 3",
   "language": "python",
   "name": "python3"
  },
  "language_info": {
   "codemirror_mode": {
    "name": "ipython",
    "version": 3
   },
   "file_extension": ".py",
   "mimetype": "text/x-python",
   "name": "python",
   "nbconvert_exporter": "python",
   "pygments_lexer": "ipython3",
   "version": "3.6.0"
  }
 },
 "nbformat": 4,
 "nbformat_minor": 2
}
