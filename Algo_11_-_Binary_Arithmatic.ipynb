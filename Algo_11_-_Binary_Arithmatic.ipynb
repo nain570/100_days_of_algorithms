{
 "cells": [
  {
   "cell_type": "markdown",
   "metadata": {},
   "source": [
    "# Addition of Binary Numbers\n",
    "Addition in binary just like normal decimal arithmatics, but with carry of 2 instead of 10. So, it uses modulus and division with 2. The following function uses binary properties to perform addition on <b>unsigned binary numbers</b> in python."
   ]
  },
  {
   "cell_type": "code",
   "execution_count": null,
   "metadata": {
    "collapsed": true
   },
   "outputs": [],
   "source": [
    "import time\n",
    "from __future__ import division\n",
    "from IPython.display import IFrame"
   ]
  },
  {
   "cell_type": "markdown",
   "metadata": {},
   "source": [
    "Function definition"
   ]
  },
  {
   "cell_type": "code",
   "execution_count": 2,
   "metadata": {
    "collapsed": true
   },
   "outputs": [],
   "source": [
    "def add(first, second):\n",
    "    augend = [int(x) for x in first]\n",
    "    addend = [int(x) for x in second]\n",
    "    result = []\n",
    "    carry = 0\n",
    "    while augend and addend:\n",
    "        _sum = augend.pop()+addend.pop()+carry\n",
    "        result.append( _sum % 2)\n",
    "        carry = _sum//2\n",
    "    result.append(carry)\n",
    "    if augend:\n",
    "        result = augend + result[::-1]\n",
    "    if addend:\n",
    "        result = addend + result[::-1]\n",
    "    return ''.join(str(s) for s in result)"
   ]
  },
  {
   "cell_type": "markdown",
   "metadata": {},
   "source": [
    "Testing"
   ]
  },
  {
   "cell_type": "code",
   "execution_count": 3,
   "metadata": {
    "collapsed": false
   },
   "outputs": [
    {
     "name": "stdout",
     "output_type": "stream",
     "text": [
      "0011\n",
      "----- 0.0 seconds -----\n"
     ]
    }
   ],
   "source": [
    "start = time.time()\n",
    "print(add('111','101'))\n",
    "print(\"----- %s seconds -----\" % (time.time() - start))"
   ]
  },
  {
   "cell_type": "code",
   "execution_count": 4,
   "metadata": {
    "collapsed": false
   },
   "outputs": [
    {
     "name": "stdout",
     "output_type": "stream",
     "text": [
      "1001111\n",
      "----- 0.0009992122650146484 seconds -----\n"
     ]
    }
   ],
   "source": [
    "start = time.time()\n",
    "print(add('100101','1010'))\n",
    "print(\"----- %s seconds -----\" % (time.time() - start))"
   ]
  },
  {
   "cell_type": "code",
   "execution_count": 5,
   "metadata": {
    "collapsed": false,
    "scrolled": true
   },
   "outputs": [
    {
     "name": "stdout",
     "output_type": "stream",
     "text": [
      "1001010110010101\n",
      "----- 0.0 seconds -----\n"
     ]
    }
   ],
   "source": [
    "start = time.time()\n",
    "print(add('100101011011011','10111010'))\n",
    "print(\"----- %s seconds -----\" % (time.time() - start))"
   ]
  },
  {
   "cell_type": "markdown",
   "metadata": {},
   "source": [
    "Visualize the step-by-step working of code [here](https://goo.gl/D9GGUd)."
   ]
  },
  {
   "cell_type": "code",
   "execution_count": 3,
   "metadata": {
    "collapsed": false
   },
   "outputs": [
    {
     "ename": "SyntaxError",
     "evalue": "invalid syntax (<ipython-input-3-fc4cc7a188e9>, line 2)",
     "output_type": "error",
     "traceback": [
      "\u001b[0;36m  File \u001b[0;32m\"<ipython-input-3-fc4cc7a188e9>\"\u001b[0;36m, line \u001b[0;32m2\u001b[0m\n\u001b[0;31m    IFrame('http://pythontutor.com/iframe-embed.html#code=def%20add%28first,%20second%29%3A%0A%20%20%20%20augend%20%3D%20%5Bint%28x%29%20for%20x%20in%20first%5D%0A%20%20%20%20addend%20%3D%20%5Bint%28x%29%20for%20x%20in%20second%5D%0A%20%20%20%20result%20%3D%20%5B%5D%0A%20%20%20%20carry%20%3D%200%0A%20%20%20%20while%20augend%20and%20addend%3A%0A%20%20%20%20%20%20%20%20_sum%20%3D%20augend.pop%28%29%2Baddend.pop%28%29%2Bcarry%0A%20%20%20%20%20%20%20%20result.append%28%20_sum%20%25%202%29%0A%20%20%20%20%20%20%20%20carry%20%3D%20_sum//2%0A%20%20%20%20result.append%28carry%29%0A%20%20%20%20if%20augend%3A%0A%20%20%20%20%20%20%20%20result%20%3D%20augend%20%2B%20result%5B%3A%3A-1%5D%0A%20%20%20%20if%20addend%3A%0A%20%20%20%20%20%20%20%20result%20%3D%20addend%20%2B%20result%5B%3A%3A-1%5D%0A%20%20%20%20return%20''.join%28str%28s%29%20for%20s%20in%20result%29%0A%20%20%20%20%0Aif%20__name__%20is%20'__main__'%3A%0A%20%20%20%20print%28add%28'111','101'%29%29&codeDivHeight=400&codeDivWidth=350&cumulative=false&curInstr=47&heapPrimitives=false&origin=opt-frontend.js&py=2&rawInputLstJSON=%5B%5D&textReferences=false', width=800, height=500)\u001b[0m\n\u001b[0m                                                                                                                                                                                                                                                                                                                                                                                                                                                                                                                                                                                                                                                                                                                                                                                                                                                                                                                                          ^\u001b[0m\n\u001b[0;31mSyntaxError\u001b[0m\u001b[0;31m:\u001b[0m invalid syntax\n"
     ]
    }
   ],
   "source": [
    "from IPython.display import IFrame\n",
    "IFrame('http://pythontutor.com/iframe-embed.html#code=def%20add%28first,%20second%29%3A%0A%20%20%20%20augend%20%3D%20%5Bint%28x%29%20for%20x%20in%20first%5D%0A%20%20%20%20addend%20%3D%20%5Bint%28x%29%20for%20x%20in%20second%5D%0A%20%20%20%20result%20%3D%20%5B%5D%0A%20%20%20%20carry%20%3D%200%0A%20%20%20%20while%20augend%20and%20addend%3A%0A%20%20%20%20%20%20%20%20_sum%20%3D%20augend.pop%28%29%2Baddend.pop%28%29%2Bcarry%0A%20%20%20%20%20%20%20%20result.append%28%20_sum%20%25%202%29%0A%20%20%20%20%20%20%20%20carry%20%3D%20_sum//2%0A%20%20%20%20result.append%28carry%29%0A%20%20%20%20if%20augend%3A%0A%20%20%20%20%20%20%20%20result%20%3D%20augend%20%2B%20result%5B%3A%3A-1%5D%0A%20%20%20%20if%20addend%3A%0A%20%20%20%20%20%20%20%20result%20%3D%20addend%20%2B%20result%5B%3A%3A-1%5D%0A%20%20%20%20return%20''.join%28str%28s%29%20for%20s%20in%20result%29%0A%20%20%20%20%0Aif%20__name__%20is%20'__main__'%3A%0A%20%20%20%20print%28add%28'111','101'%29%29&codeDivHeight=400&codeDivWidth=350&cumulative=false&curInstr=47&heapPrimitives=false&origin=opt-frontend.js&py=2&rawInputLstJSON=%5B%5D&textReferences=false', width=800, height=500)"
   ]
  }
 ],
 "metadata": {
  "kernelspec": {
   "display_name": "Python 3",
   "language": "python",
   "name": "python3"
  },
  "language_info": {
   "codemirror_mode": {
    "name": "ipython",
    "version": 3
   },
   "file_extension": ".py",
   "mimetype": "text/x-python",
   "name": "python",
   "nbconvert_exporter": "python",
   "pygments_lexer": "ipython3",
   "version": "3.6.0"
  }
 },
 "nbformat": 4,
 "nbformat_minor": 2
}
