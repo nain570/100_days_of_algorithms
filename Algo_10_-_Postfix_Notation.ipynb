{
 "cells": [
  {
   "cell_type": "markdown",
   "metadata": {},
   "source": [
    "# Postfix Notation\n",
    "In Postfixm, operators are written after their operands. The infix expression A * ( B + C ) / D is equivalent to A B C + * D / \n",
    "The order of evaluation of operators is always left-to-right, and brackets cannot be used to change this order. Because the \"+\" is to the left of the \"*\" in the example above, the addition must be performed before the multiplication.<br />[Learn More](http://www.cs.man.ac.uk/~pjj/cs212/fix.html)"
   ]
  },
  {
   "cell_type": "markdown",
   "metadata": {},
   "source": [
    "I will define a fucntion to evaluate an expression written in Postfix Notation using the standard method of Push Push... Pop Pop Operate..."
   ]
  },
  {
   "cell_type": "code",
   "execution_count": 1,
   "metadata": {
    "collapsed": true
   },
   "outputs": [],
   "source": [
    "import time"
   ]
  },
  {
   "cell_type": "markdown",
   "metadata": {},
   "source": [
    "Operators"
   ]
  },
  {
   "cell_type": "code",
   "execution_count": 2,
   "metadata": {
    "collapsed": true
   },
   "outputs": [],
   "source": [
    "operators = {\n",
    "    '+': float.__add__,\n",
    "    '-': float.__sub__,\n",
    "    '*': float.__mul__,\n",
    "    '/': float.__truediv__,\n",
    "    '%': float.__mod__,\n",
    "    '^': float.__pow__,\n",
    "}"
   ]
  },
  {
   "cell_type": "markdown",
   "metadata": {},
   "source": [
    "Function"
   ]
  },
  {
   "cell_type": "code",
   "execution_count": 3,
   "metadata": {
    "collapsed": true
   },
   "outputs": [],
   "source": [
    "def postfix( expression ):\n",
    "    stack = []\n",
    "    for ex in expression.split(): #splititng the expression to individual elements\n",
    "        if ex in operators: #if an operator is found\n",
    "            ex = operators[ex](stack.pop(-2), stack.pop(-1)) #apply that on last two digits/numbers\n",
    "        else:\n",
    "            ex = float(ex) #otherwise just push the digit\n",
    "        stack.append(ex)\n",
    "    \n",
    "    return stack.pop()"
   ]
  },
  {
   "cell_type": "markdown",
   "metadata": {},
   "source": [
    "Testing"
   ]
  },
  {
   "cell_type": "code",
   "execution_count": 4,
   "metadata": {
    "collapsed": false
   },
   "outputs": [
    {
     "name": "stdout",
     "output_type": "stream",
     "text": [
      "-16.0\n",
      "----- 0.0009989738464355469 seconds -----\n"
     ]
    }
   ],
   "source": [
    "start = time.time()\n",
    "print(postfix('4 5 7 2 + - *'))\n",
    "print(\"----- %s seconds -----\" % (time.time() - start))"
   ]
  },
  {
   "cell_type": "code",
   "execution_count": 5,
   "metadata": {
    "collapsed": false
   },
   "outputs": [
    {
     "name": "stdout",
     "output_type": "stream",
     "text": [
      "2.0\n",
      "----- 0.0 seconds -----\n"
     ]
    }
   ],
   "source": [
    "start = time.time()\n",
    "print(postfix('3 4 + 2  * 7 /'))\n",
    "print(\"----- %s seconds -----\" % (time.time() - start))"
   ]
  },
  {
   "cell_type": "code",
   "execution_count": 6,
   "metadata": {
    "collapsed": false
   },
   "outputs": [
    {
     "name": "stdout",
     "output_type": "stream",
     "text": [
      "48.0\n",
      "----- 0.0010008811950683594 seconds -----\n"
     ]
    }
   ],
   "source": [
    "start = time.time()\n",
    "print(postfix('5 7 + 6 2 -  *'))\n",
    "print(\"----- %s seconds -----\" % (time.time() - start))"
   ]
  },
  {
   "cell_type": "code",
   "execution_count": 7,
   "metadata": {
    "collapsed": false
   },
   "outputs": [
    {
     "name": "stdout",
     "output_type": "stream",
     "text": [
      "18.0\n",
      "----- 0.0010013580322265625 seconds -----\n"
     ]
    }
   ],
   "source": [
    "start = time.time()\n",
    "print(postfix('4 2 3 5 1 - + * +'))\n",
    "print(\"----- %s seconds -----\" % (time.time() - start))"
   ]
  },
  {
   "cell_type": "code",
   "execution_count": 8,
   "metadata": {
    "collapsed": false
   },
   "outputs": [
    {
     "name": "stdout",
     "output_type": "stream",
     "text": [
      "18.0\n",
      "----- 0.0009989738464355469 seconds -----\n"
     ]
    }
   ],
   "source": [
    "start = time.time()\n",
    "print(postfix('4 2 + 3 5 1 -  * +'))\n",
    "print(\"----- %s seconds -----\" % (time.time() - start))"
   ]
  }
 ],
 "metadata": {
  "kernelspec": {
   "display_name": "Python 3",
   "language": "python",
   "name": "python3"
  },
  "language_info": {
   "codemirror_mode": {
    "name": "ipython",
    "version": 3
   },
   "file_extension": ".py",
   "mimetype": "text/x-python",
   "name": "python",
   "nbconvert_exporter": "python",
   "pygments_lexer": "ipython3",
   "version": "3.6.0"
  }
 },
 "nbformat": 4,
 "nbformat_minor": 2
}
