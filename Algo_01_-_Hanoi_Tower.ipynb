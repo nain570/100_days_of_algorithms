{
 "cells": [
  {
   "cell_type": "markdown",
   "metadata": {},
   "source": [
    "Defining function which sorts the Hanoi Tower"
   ]
  },
  {
   "cell_type": "code",
   "execution_count": 1,
   "metadata": {
    "collapsed": true
   },
   "outputs": [],
   "source": [
    "def hanoi(height, fro='left', to='right', through='middle'):\n",
    "    if height:\n",
    "        hanoi(height - 1, fro, through, to )\n",
    "        print ('%-7s => %s' % (fro, to))\n",
    "        hanoi(height -1, through, to, fro)"
   ]
  },
  {
   "cell_type": "markdown",
   "metadata": {},
   "source": [
    "Now that the function is ready, calling it to sort different sizes of Hanoi Towers"
   ]
  },
  {
   "cell_type": "code",
   "execution_count": 2,
   "metadata": {
    "collapsed": false
   },
   "outputs": [
    {
     "name": "stdout",
     "output_type": "stream",
     "text": [
      "left    => middle\n",
      "left    => right\n",
      "middle  => right\n"
     ]
    }
   ],
   "source": [
    "hanoi(2)"
   ]
  },
  {
   "cell_type": "code",
   "execution_count": 3,
   "metadata": {
    "collapsed": false
   },
   "outputs": [
    {
     "name": "stdout",
     "output_type": "stream",
     "text": [
      "left    => right\n",
      "left    => middle\n",
      "right   => middle\n",
      "left    => right\n",
      "middle  => left\n",
      "middle  => right\n",
      "left    => right\n"
     ]
    }
   ],
   "source": [
    "hanoi(3)"
   ]
  },
  {
   "cell_type": "code",
   "execution_count": 4,
   "metadata": {
    "collapsed": false
   },
   "outputs": [
    {
     "name": "stdout",
     "output_type": "stream",
     "text": [
      "left    => middle\n",
      "left    => right\n",
      "middle  => right\n",
      "left    => middle\n",
      "right   => left\n",
      "right   => middle\n",
      "left    => middle\n",
      "left    => right\n",
      "middle  => right\n",
      "middle  => left\n",
      "right   => left\n",
      "middle  => right\n",
      "left    => middle\n",
      "left    => right\n",
      "middle  => right\n"
     ]
    }
   ],
   "source": [
    "hanoi(4)"
   ]
  },
  {
   "cell_type": "code",
   "execution_count": 5,
   "metadata": {
    "collapsed": false
   },
   "outputs": [
    {
     "name": "stdout",
     "output_type": "stream",
     "text": [
      "left    => right\n",
      "left    => middle\n",
      "right   => middle\n",
      "left    => right\n",
      "middle  => left\n",
      "middle  => right\n",
      "left    => right\n",
      "left    => middle\n",
      "right   => middle\n",
      "right   => left\n",
      "middle  => left\n",
      "right   => middle\n",
      "left    => right\n",
      "left    => middle\n",
      "right   => middle\n",
      "left    => right\n",
      "middle  => left\n",
      "middle  => right\n",
      "left    => right\n",
      "middle  => left\n",
      "right   => middle\n",
      "right   => left\n",
      "middle  => left\n",
      "middle  => right\n",
      "left    => right\n",
      "left    => middle\n",
      "right   => middle\n",
      "left    => right\n",
      "middle  => left\n",
      "middle  => right\n",
      "left    => right\n"
     ]
    }
   ],
   "source": [
    "hanoi(5)"
   ]
  },
  {
   "cell_type": "code",
   "execution_count": null,
   "metadata": {
    "collapsed": true
   },
   "outputs": [],
   "source": []
  }
 ],
 "metadata": {
  "kernelspec": {
   "display_name": "Python 3",
   "language": "python",
   "name": "python3"
  },
  "language_info": {
   "codemirror_mode": {
    "name": "ipython",
    "version": 3
   },
   "file_extension": ".py",
   "mimetype": "text/x-python",
   "name": "python",
   "nbconvert_exporter": "python",
   "pygments_lexer": "ipython3",
   "version": "3.6.0"
  }
 },
 "nbformat": 4,
 "nbformat_minor": 2
}
