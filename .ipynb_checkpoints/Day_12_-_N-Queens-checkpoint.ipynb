{
 "cells": [
  {
   "cell_type": "markdown",
   "metadata": {},
   "source": [
    "# N-Queens\n",
    "Given a chess board having <b>N × N</b> cells, we need to place <b>N</b> queens in such a way that no queen is attacked by any other queen. A queen can attack horizontally, vertically and diagonally.<br /> As the size of board may change, there's no given formula to place the Queens. For this reason, I'll implement hit-n-trial method named <em>Backtracking</em>."
   ]
  },
  {
   "cell_type": "markdown",
   "metadata": {},
   "source": [
    "First I implement a method to see if a Queen at x, y location is attackable by checking horizontally, vertically, and diagonally."
   ]
  },
  {
   "cell_type": "code",
   "execution_count": 23,
   "metadata": {
    "collapsed": true
   },
   "outputs": [],
   "source": [
    "def printBoard():\n",
    "    N = len(board[0]) # dimensions N x N\n",
    "    for i in range(N):\n",
    "        for j in range(N):\n",
    "            if board[i][j]:\n",
    "                print('Q  ')\n",
    "            else:\n",
    "                print('_  ')\n",
    "        print(\"\\n\")"
   ]
  },
  {
   "cell_type": "code",
   "execution_count": 24,
   "metadata": {
    "collapsed": true
   },
   "outputs": [],
   "source": [
    "def is_attacked(x, y, N):\n",
    "    '''if a location is 1, it means a Queen is there, and\n",
    "        if 0, it is empty'''\n",
    "    #checking the rows\n",
    "    for i in range(N):\n",
    "        if board[i][y] is 1:\n",
    "            return True\n",
    "    #checking columns\n",
    "    for j in range(N):\n",
    "        if board[x][j] is 1:\n",
    "            return True\n",
    "\n",
    "    #checking for diagonals\n",
    "    for p in range(N):\n",
    "        for q in range(N):\n",
    "            if (p+q is x+y) or (p-q is x-y) and (board[p][q] is 1):\n",
    "                return True\n",
    "    #if not attached\n",
    "    return False"
   ]
  },
  {
   "cell_type": "markdown",
   "metadata": {},
   "source": [
    "Placing Queens using backtrack technique"
   ]
  },
  {
   "cell_type": "code",
   "execution_count": 25,
   "metadata": {
    "collapsed": false
   },
   "outputs": [],
   "source": [
    "def queens(N):\n",
    "    if N is 0:                   #All queens have been placed\n",
    "        return True\n",
    "    for i in range(N):\n",
    "        for j in range(N):\n",
    "            if is_attacked(i, j, N):\n",
    "                continue\n",
    "            board[i][j] = 1            #Place current queen at cell (i,j)\n",
    "            printBoard()\n",
    "            if queens(N-1):    # Solve subproblem\n",
    "                return True                   # if solution is found return true\n",
    "            board[i][j] = 0\n",
    "            printBoard()\n",
    "            ''' if solution is not found undo whatever changes \n",
    "            were made i.e., remove  current queen from (i,j)'''\n",
    "    # if wrong placement\n",
    "    return False"
   ]
  },
  {
   "cell_type": "markdown",
   "metadata": {},
   "source": [
    "Initilizing the work"
   ]
  },
  {
   "cell_type": "code",
   "execution_count": 26,
   "metadata": {
    "collapsed": false
   },
   "outputs": [
    {
     "name": "stdout",
     "output_type": "stream",
     "text": [
      "Enter N here:4\n"
     ]
    },
    {
     "data": {
      "text/plain": [
       "False"
      ]
     },
     "execution_count": 26,
     "metadata": {},
     "output_type": "execute_result"
    }
   ],
   "source": [
    "N = int(input(\"Enter N here:\"))\n",
    "#initializing board will all zeros\n",
    "#global settings\n",
    "import numpy as np\n",
    "board = np.zeros((N, N))\n",
    "queens(N)"
   ]
  }
 ],
 "metadata": {
  "kernelspec": {
   "display_name": "Python 3",
   "language": "python",
   "name": "python3"
  },
  "language_info": {
   "codemirror_mode": {
    "name": "ipython",
    "version": 3
   },
   "file_extension": ".py",
   "mimetype": "text/x-python",
   "name": "python",
   "nbconvert_exporter": "python",
   "pygments_lexer": "ipython3",
   "version": "3.6.0"
  }
 },
 "nbformat": 4,
 "nbformat_minor": 2
}
