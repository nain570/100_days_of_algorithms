{
 "cells": [
  {
   "cell_type": "markdown",
   "metadata": {},
   "source": [
    "# McCarthy91\n",
    "A rather useless and simple looking function, but important in formal verification in Computer Science.\n",
    "## Definition\n",
    "### Nested-Recursive\n",
    "$$M(n) = \\begin{cases} \n",
    "      n - 10, & if\\quad n > 100 \\\\\n",
    "      M(M(n+11), & if\\quad n \\leq 100\n",
    "   \\end{cases}\n",
    "$$\n",
    "### Tail-Recursive\n",
    "$$Mtaux(n, c) = \\begin{cases} \n",
    "      n, & if\\quad c = 0 \\\\\n",
    "      Mtaux(n - 10, c - 1), & if\\quad n > 100\\quad and\\quad c\\neq 0 \\\\\n",
    "      Mtaux(n + 11, c + 1), & if\\quad n \\leq 100\\quad and\\quad c\\neq 0\n",
    "   \\end{cases}\n",
    "$$\n",
    "## More Reading\n",
    "Quoting from [Stack Overflow](https://stackoverflow.com/questions/18192506/significance-of-mccarthy-91-function-in-computer-science/18192928#18192928): \"Imagine you are writing a C compiler, which accepts programs like the one you wrote and produces executable code. You want to test that your compiler works correctly. You make a test case that is the recursive definition of the function as you wrote it, and assert that when you run the compiled code you get the easy to calculate result (in this case the program should output 91). Difficult test cases like this would be particularly useful if you are starting to write optimizations for compiling recursive calls.\n",
    "\n",
    "Image that instead of writing a compiler, you are writing a program that tries to write a proof, like you would write in a math class. The inputs to the program might be a set of transformations like the algebra laws you use to write a proof, and a statement that the program attempts to prove. This branch of computer science is called formal verification. Statements involving the McCarthy 91 function are difficult to prove. For example (for all x <= 100, M(x) == 91) would be very difficult to prove. This would be a very hard problem for your proof writing program and transformations to produce a proof of.\""
   ]
  },
  {
   "cell_type": "code",
   "execution_count": 1,
   "metadata": {
    "collapsed": false
   },
   "outputs": [],
   "source": [
    "from IPython.display import Latex"
   ]
  },
  {
   "cell_type": "markdown",
   "metadata": {},
   "source": [
    "## Nested-Recursive\n",
    "A simple version of the Algorithms"
   ]
  },
  {
   "cell_type": "code",
   "execution_count": 2,
   "metadata": {
    "collapsed": true
   },
   "outputs": [],
   "source": [
    "def mac91( N ): #accepts a natural number\n",
    "    if N: # make sure it's natural\n",
    "        if N > 100:\n",
    "            return N - 10\n",
    "        else:\n",
    "            return mac91( mac91(N + 11) )\n",
    "    return \"Not Natural\""
   ]
  },
  {
   "cell_type": "markdown",
   "metadata": {},
   "source": [
    "#### Test Cases:"
   ]
  },
  {
   "cell_type": "code",
   "execution_count": 3,
   "metadata": {
    "collapsed": false
   },
   "outputs": [
    {
     "name": "stdout",
     "output_type": "stream",
     "text": [
      "Not Natural\n"
     ]
    }
   ],
   "source": [
    "print( mac91(0) )"
   ]
  },
  {
   "cell_type": "code",
   "execution_count": 4,
   "metadata": {
    "collapsed": false
   },
   "outputs": [
    {
     "name": "stdout",
     "output_type": "stream",
     "text": [
      "91\n"
     ]
    }
   ],
   "source": [
    "print( mac91(101) )"
   ]
  },
  {
   "cell_type": "code",
   "execution_count": 5,
   "metadata": {
    "collapsed": false
   },
   "outputs": [
    {
     "name": "stdout",
     "output_type": "stream",
     "text": [
      "91\n"
     ]
    }
   ],
   "source": [
    "print( mac91(15) )"
   ]
  },
  {
   "cell_type": "code",
   "execution_count": 6,
   "metadata": {
    "collapsed": false
   },
   "outputs": [
    {
     "name": "stdout",
     "output_type": "stream",
     "text": [
      "91\n"
     ]
    }
   ],
   "source": [
    "print( mac91(84) )"
   ]
  },
  {
   "cell_type": "markdown",
   "metadata": {},
   "source": [
    "## Tail-Recursive"
   ]
  },
  {
   "cell_type": "code",
   "execution_count": 7,
   "metadata": {
    "collapsed": true
   },
   "outputs": [],
   "source": [
    "def mtaux( N, c ):\n",
    "    if N and c: # make sure it's natural\n",
    "        if N > 100:\n",
    "            return mtaux( N - 10, c - 1 )\n",
    "        else:\n",
    "            return mtaux( N + 11, c + 1 )\n",
    "    elif not c:\n",
    "        return N\n",
    "    return \"Not Natural\""
   ]
  },
  {
   "cell_type": "markdown",
   "metadata": {},
   "source": [
    "#### Test Cases:"
   ]
  },
  {
   "cell_type": "code",
   "execution_count": 8,
   "metadata": {
    "collapsed": false
   },
   "outputs": [
    {
     "name": "stdout",
     "output_type": "stream",
     "text": [
      "Not Natural\n"
     ]
    }
   ],
   "source": [
    "print( mtaux(0, 15) )"
   ]
  },
  {
   "cell_type": "code",
   "execution_count": 9,
   "metadata": {
    "collapsed": false
   },
   "outputs": [
    {
     "name": "stdout",
     "output_type": "stream",
     "text": [
      "91\n"
     ]
    }
   ],
   "source": [
    "print( mtaux(84, 1) )"
   ]
  },
  {
   "cell_type": "code",
   "execution_count": 10,
   "metadata": {
    "collapsed": false
   },
   "outputs": [
    {
     "name": "stdout",
     "output_type": "stream",
     "text": [
      "91\n"
     ]
    }
   ],
   "source": [
    "print( mtaux(101, 5) )"
   ]
  }
 ],
 "metadata": {
  "kernelspec": {
   "display_name": "Python 3",
   "language": "python",
   "name": "python3"
  },
  "language_info": {
   "codemirror_mode": {
    "name": "ipython",
    "version": 3
   },
   "file_extension": ".py",
   "mimetype": "text/x-python",
   "name": "python",
   "nbconvert_exporter": "python",
   "pygments_lexer": "ipython3",
   "version": "3.6.0"
  }
 },
 "nbformat": 4,
 "nbformat_minor": 2
}
