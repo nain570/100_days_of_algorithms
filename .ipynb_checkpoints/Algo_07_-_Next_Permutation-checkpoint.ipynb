{
 "cells": [
  {
   "cell_type": "markdown",
   "metadata": {},
   "source": [
    "# Next Permutation\n",
    "\n",
    "Given a totally ordered set, find the next permutation of the current configuration."
   ]
  },
  {
   "cell_type": "code",
   "execution_count": 1,
   "metadata": {
    "collapsed": true
   },
   "outputs": [],
   "source": [
    "#dependencies\n",
    "import time"
   ]
  },
  {
   "cell_type": "markdown",
   "metadata": {},
   "source": [
    "Defining python function for get the next permutation"
   ]
  },
  {
   "cell_type": "code",
   "execution_count": 2,
   "metadata": {
    "collapsed": false
   },
   "outputs": [],
   "source": [
    "def _next( current ):\n",
    "    n = len(current) #len\n",
    "    for i in reversed(range(n-1)):\n",
    "        if current[i] < current[i+1]: #get pivot value if sequence breaks\n",
    "            print (\"Pivot: \", current[i])\n",
    "            break #here the pivot is at i\n",
    "    else: #last permutation\n",
    "        return current\n",
    "    for j in reversed(range(i, n)):\n",
    "        if current[i] < current[j]:\n",
    "            print (\"Value to swap: \", current [j])\n",
    "            current[i], current[j] = current[j], current[i]\n",
    "            current[i + 1:] = reversed(current[i + 1:])\n",
    "    return current"
   ]
  },
  {
   "cell_type": "markdown",
   "metadata": {},
   "source": [
    "Finding the next permutation"
   ]
  },
  {
   "cell_type": "code",
   "execution_count": 3,
   "metadata": {
    "collapsed": false
   },
   "outputs": [
    {
     "name": "stdout",
     "output_type": "stream",
     "text": [
      "Pivot:  4\n",
      "Value to swap:  5\n",
      "[3, 5, 1, 2, 4]\n",
      "----- 0.0010004043579101562 seconds -----\n"
     ]
    }
   ],
   "source": [
    "start = time.time()\n",
    "print(_next([3,4,5,2,1]))\n",
    "print(\"----- %s seconds -----\" % (time.time() - start))"
   ]
  },
  {
   "cell_type": "markdown",
   "metadata": {},
   "source": [
    "Special case when next permutation is not possible"
   ]
  },
  {
   "cell_type": "code",
   "execution_count": 4,
   "metadata": {
    "collapsed": false
   },
   "outputs": [
    {
     "name": "stdout",
     "output_type": "stream",
     "text": [
      "[5, 4, 3, 2, 1]\n",
      "----- 0.0010004043579101562 seconds -----\n"
     ]
    }
   ],
   "source": [
    "start = time.time()\n",
    "print(_next([5, 4, 3, 2, 1]))\n",
    "print(\"----- %s seconds -----\" % (time.time() - start))"
   ]
  },
  {
   "cell_type": "markdown",
   "metadata": {},
   "source": [
    "This can also be applied to string"
   ]
  },
  {
   "cell_type": "code",
   "execution_count": 5,
   "metadata": {
    "collapsed": false
   },
   "outputs": [
    {
     "name": "stdout",
     "output_type": "stream",
     "text": [
      "Pivot:  B\n",
      "Value to swap:  D\n",
      "['A', 'C', 'D', 'B']\n",
      "----- 0.0010018348693847656 seconds -----\n"
     ]
    }
   ],
   "source": [
    "start = time.time()\n",
    "print(_next( list('ACBD') ))\n",
    "print(\"----- %s seconds -----\" % (time.time() - start))"
   ]
  }
 ],
 "metadata": {
  "kernelspec": {
   "display_name": "Python 3",
   "language": "python",
   "name": "python3"
  },
  "language_info": {
   "codemirror_mode": {
    "name": "ipython",
    "version": 3
   },
   "file_extension": ".py",
   "mimetype": "text/x-python",
   "name": "python",
   "nbconvert_exporter": "python",
   "pygments_lexer": "ipython3",
   "version": "3.6.0"
  }
 },
 "nbformat": 4,
 "nbformat_minor": 2
}
