{
 "cells": [
  {
   "cell_type": "markdown",
   "metadata": {},
   "source": [
    "# Calculation of Pi Using the Monte Carlo Method\n",
    "The \"Monte Carlo Method\" is a method of solving problems using statistics. Given the probability, P, that an event will occur in certain conditions, a computer can be used to generate those conditions repeatedly. The number of times the event occurs divided by the number of times the conditions are generated should be approximately equal to P. <br /> [Read More](http://www.eveandersson.com/pi/monte-carlo-circle)"
   ]
  },
  {
   "cell_type": "code",
   "execution_count": 1,
   "metadata": {
    "collapsed": true
   },
   "outputs": [],
   "source": [
    "import time\n",
    "import numpy as np"
   ]
  },
  {
   "cell_type": "code",
   "execution_count": 6,
   "metadata": {
    "collapsed": true
   },
   "outputs": [],
   "source": [
    "def pi(n, batch = 1000):\n",
    "    M = 0\n",
    "    for i in range(n // batch):\n",
    "        #random circles\n",
    "        circles = np.random.rand(batch, 2)\n",
    "        #probability\n",
    "        p = (circles ** 2).sum(axis=1) #add squared elements of each row\n",
    "        M += (p <= 1).sum()\n",
    "    return 4 * M / n"
   ]
  },
  {
   "cell_type": "markdown",
   "metadata": {},
   "source": [
    "Test"
   ]
  },
  {
   "cell_type": "code",
   "execution_count": 7,
   "metadata": {
    "collapsed": false
   },
   "outputs": [
    {
     "name": "stdout",
     "output_type": "stream",
     "text": [
      "3.142\n",
      "----- 0.051001548767089844 seconds -----\n"
     ]
    }
   ],
   "source": [
    "start = time.time()\n",
    "print( pi(10 ** 4))\n",
    "print(\"----- %s seconds -----\" % (time.time() - start))"
   ]
  },
  {
   "cell_type": "code",
   "execution_count": 9,
   "metadata": {
    "collapsed": false
   },
   "outputs": [
    {
     "name": "stdout",
     "output_type": "stream",
     "text": [
      "3.1576\n",
      "----- 0.006999015808105469 seconds -----\n"
     ]
    }
   ],
   "source": [
    "start = time.time()\n",
    "print( pi(10 ** 4, batch=100))\n",
    "print(\"----- %s seconds -----\" % (time.time() - start))"
   ]
  },
  {
   "cell_type": "code",
   "execution_count": 10,
   "metadata": {
    "collapsed": false
   },
   "outputs": [
    {
     "name": "stdout",
     "output_type": "stream",
     "text": [
      "3.1412324\n",
      "----- 1.8050498962402344 seconds -----\n"
     ]
    }
   ],
   "source": [
    "start = time.time()\n",
    "print( pi(10 ** 7))\n",
    "print(\"----- %s seconds -----\" % (time.time() - start))"
   ]
  },
  {
   "cell_type": "code",
   "execution_count": 11,
   "metadata": {
    "collapsed": false
   },
   "outputs": [
    {
     "name": "stdout",
     "output_type": "stream",
     "text": [
      "3.1417232\n",
      "----- 1.2910652160644531 seconds -----\n"
     ]
    }
   ],
   "source": [
    "start = time.time()\n",
    "print( pi(10 ** 7, batch=10000))\n",
    "print(\"----- %s seconds -----\" % (time.time() - start))"
   ]
  }
 ],
 "metadata": {
  "kernelspec": {
   "display_name": "Python 3",
   "language": "python",
   "name": "python3"
  },
  "language_info": {
   "codemirror_mode": {
    "name": "ipython",
    "version": 3
   },
   "file_extension": ".py",
   "mimetype": "text/x-python",
   "name": "python",
   "nbconvert_exporter": "python",
   "pygments_lexer": "ipython3",
   "version": "3.6.0"
  }
 },
 "nbformat": 4,
 "nbformat_minor": 2
}
