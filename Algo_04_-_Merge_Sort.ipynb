{
 "cells": [
  {
   "cell_type": "markdown",
   "metadata": {},
   "source": [
    "Important import"
   ]
  },
  {
   "cell_type": "code",
   "execution_count": 1,
   "metadata": {
    "collapsed": true
   },
   "outputs": [],
   "source": [
    "from __future__ import division\n",
    "import time"
   ]
  },
  {
   "cell_type": "markdown",
   "metadata": {},
   "source": [
    "Definition of Merge function that merges two \"sorted\" lists in an order; essence of Merge Sort"
   ]
  },
  {
   "cell_type": "code",
   "execution_count": 2,
   "metadata": {
    "collapsed": false
   },
   "outputs": [],
   "source": [
    "def merge(first, second):\n",
    "    temp = [] #a temporary list to help merging\n",
    "    \n",
    "    while( first and second ): #while non-empty\n",
    "        if first[0] > second[0]:\n",
    "            temp.append( second.pop(0) ) #removing and adding to temp\n",
    "        else:\n",
    "            temp.append( first.pop(0) ) #removing and adding to temp\n",
    "            \n",
    "    #copying to temp\n",
    "    while( first ):\n",
    "        temp.append( first.pop(0) ) #removing and adding to temp\n",
    "    while( second ):\n",
    "        temp.append( second.pop(0) ) #removing and adding to temp\n",
    "    return temp #return a merged sorted list"
   ]
  },
  {
   "cell_type": "markdown",
   "metadata": {},
   "source": [
    "A little test on our merge function"
   ]
  },
  {
   "cell_type": "code",
   "execution_count": 3,
   "metadata": {
    "collapsed": false
   },
   "outputs": [
    {
     "name": "stdout",
     "output_type": "stream",
     "text": [
      "[0, 1, 2, 3, 4]\n"
     ]
    }
   ],
   "source": [
    "print( merge( [2,3,4], [0, 1] ) )"
   ]
  },
  {
   "cell_type": "markdown",
   "metadata": {},
   "source": [
    "The reason \"sorted\" was quoted is that we call Merge Sort recursively which causes Merge while dividing the list into halves continously. This jotts down to each element and thus they get sorted. As the time passes after reaching the individual elements, the sublists get bigger and self-sorted. The example below expresses that the merge doesn't actually sorts the list but recursive calling of merge fucntion by Merge Sort, does!\n",
    "\n",
    "_You can see the actual sorting when Merge Sort is in action._"
   ]
  },
  {
   "cell_type": "code",
   "execution_count": 4,
   "metadata": {
    "collapsed": false
   },
   "outputs": [
    {
     "name": "stdout",
     "output_type": "stream",
     "text": [
      "[0, 1, 2, 5, 4]\n"
     ]
    }
   ],
   "source": [
    "print( merge( [2,5,4], [0, 1] ) )"
   ]
  },
  {
   "cell_type": "markdown",
   "metadata": {},
   "source": [
    "Now comes the main Merge Sort function"
   ]
  },
  {
   "cell_type": "code",
   "execution_count": 5,
   "metadata": {
    "collapsed": true
   },
   "outputs": [],
   "source": [
    "def merge_sort( myList ):\n",
    "    n = len(myList) #size\n",
    "    \n",
    "    if n is 1:\n",
    "        return myList\n",
    "    \n",
    "    #splitting from middle\n",
    "    first = myList[:n//2]\n",
    "    second = myList[n//2:]\n",
    "    \n",
    "    #recursive magic\n",
    "    first = merge_sort( first )\n",
    "    second = merge_sort( second )\n",
    "    \n",
    "    return merge(first, second)"
   ]
  },
  {
   "cell_type": "markdown",
   "metadata": {},
   "source": [
    "Example of Merge Sort in action"
   ]
  },
  {
   "cell_type": "code",
   "execution_count": 6,
   "metadata": {
    "collapsed": false
   },
   "outputs": [
    {
     "name": "stdout",
     "output_type": "stream",
     "text": [
      "[10, 14, 19, 27, 33, 35, 42, 44]\n",
      "----- 0.0 seconds -----\n"
     ]
    }
   ],
   "source": [
    "start = time.time()\n",
    "print( merge_sort([14, 33, 27, 10, 35, 19, 42, 44]) )\n",
    "print (\"----- %s seconds -----\" % (time.time() - start))"
   ]
  }
 ],
 "metadata": {
  "kernelspec": {
   "display_name": "Python 3",
   "language": "python",
   "name": "python3"
  },
  "language_info": {
   "codemirror_mode": {
    "name": "ipython",
    "version": 3
   },
   "file_extension": ".py",
   "mimetype": "text/x-python",
   "name": "python",
   "nbconvert_exporter": "python",
   "pygments_lexer": "ipython3",
   "version": "3.6.0"
  }
 },
 "nbformat": 4,
 "nbformat_minor": 2
}
