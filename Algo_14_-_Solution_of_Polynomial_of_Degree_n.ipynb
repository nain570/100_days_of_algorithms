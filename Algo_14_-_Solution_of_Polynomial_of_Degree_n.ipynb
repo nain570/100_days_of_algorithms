{
 "cells": [
  {
   "cell_type": "markdown",
   "metadata": {},
   "source": [
    "# Solving n-degree Polynomial\n",
    "For polynomials up to degree 4, there are explicit solution formulas similar to that for the quadratic equation (the Cardano formulas for third-degree equations, and the Ferrari formula for degree 4).\n",
    "\n",
    "For higher degrees, no general formula exists (or more precisely, no formula in terms of addition, subtraction, multiplication, division, arbitrary constants and nn-th roots). This result is proved in Galois theory and is known as the [Abel-Ruffini theorem](https://en.wikipedia.org/wiki/Abel%E2%80%93Ruffini_theorem).\n",
    "\n",
    "Linear Algebra to rescue, we can find roots of univariate polynomials via eigenvalues/eigenvectors of companion matrices. [Read More](www.jhuapl.edu/techdigest/TD/td2804/Williams.pdf)"
   ]
  },
  {
   "cell_type": "code",
   "execution_count": 1,
   "metadata": {
    "collapsed": true
   },
   "outputs": [],
   "source": [
    "import numpy as np\n",
    "from IPython.display import Latex"
   ]
  },
  {
   "cell_type": "code",
   "execution_count": 2,
   "metadata": {
    "collapsed": true
   },
   "outputs": [],
   "source": [
    "def solve(*coefficients): #take any number of coefficients, as a tuple\n",
    "    '''Here the k = -1, this means the first row will be padded with zeros and the identity-matrix-like-look\n",
    "        will appear from the second row, that is how a companion matrix looks like.\n",
    "        Read more: https://en.wikipedia.org/wiki/Companion_matrix '''\n",
    "    companion = np.eye(len(coefficients) - 1, k=-1) #to be, companion matrix\n",
    "    \n",
    "    '''Filling the last column of matrix to make a companion matrix.\n",
    "        This requires the coefficient of highest degree to be 1, so diving by co-of highest degree,\n",
    "        then adding the negatives to coefficients to last column. Such that,\n",
    "        Highest-to-Lowest degree are bottom-to-top in column'''\n",
    "    companion[:,-1] = -np.array(coefficients[:0:-1]) / coefficients[0]\n",
    "    \n",
    "    return np.linalg.eigvals(companion) #return eigen values of companion matrix, the roots of p(x)"
   ]
  },
  {
   "cell_type": "markdown",
   "metadata": {},
   "source": [
    "#### Tests"
   ]
  },
  {
   "cell_type": "markdown",
   "metadata": {},
   "source": [
    "1. $\\quad 2x^{3} + 7x^{2} + 4x - 4 = 0$\n",
    "2. $\\quad x^{5} + 8x^{4} + 2x^{3} - 4x^{2} + 14x + 6 = 0$\n",
    "3. $\\quad 4x^{2} + 6x = 0$"
   ]
  },
  {
   "cell_type": "code",
   "execution_count": 3,
   "metadata": {
    "collapsed": false
   },
   "outputs": [
    {
     "data": {
      "text/plain": [
       "array([ 0.5       , -2.00000002, -1.99999998])"
      ]
     },
     "execution_count": 3,
     "metadata": {},
     "output_type": "execute_result"
    }
   ],
   "source": [
    "solve(2, 7, 4, -4)"
   ]
  },
  {
   "cell_type": "code",
   "execution_count": 4,
   "metadata": {
    "collapsed": false
   },
   "outputs": [
    {
     "data": {
      "text/plain": [
       "array([ 0.73770613+0.92237007j,  0.73770613-0.92237007j,\n",
       "       -0.38932400+0.j        , -1.44602626+0.j        , -7.64006200+0.j        ])"
      ]
     },
     "execution_count": 4,
     "metadata": {},
     "output_type": "execute_result"
    }
   ],
   "source": [
    "solve(1, 8, 2, -4, 14, 6)"
   ]
  },
  {
   "cell_type": "code",
   "execution_count": 5,
   "metadata": {
    "collapsed": false
   },
   "outputs": [
    {
     "data": {
      "text/plain": [
       "array([-1.5,  0. ])"
      ]
     },
     "execution_count": 5,
     "metadata": {},
     "output_type": "execute_result"
    }
   ],
   "source": [
    "solve(4, 6, 0)"
   ]
  }
 ],
 "metadata": {
  "kernelspec": {
   "display_name": "Python 3",
   "language": "python",
   "name": "python3"
  },
  "language_info": {
   "codemirror_mode": {
    "name": "ipython",
    "version": 3
   },
   "file_extension": ".py",
   "mimetype": "text/x-python",
   "name": "python",
   "nbconvert_exporter": "python",
   "pygments_lexer": "ipython3",
   "version": "3.6.0"
  }
 },
 "nbformat": 4,
 "nbformat_minor": 2
}
